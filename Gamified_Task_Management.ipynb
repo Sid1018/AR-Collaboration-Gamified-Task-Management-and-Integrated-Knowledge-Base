{
  "nbformat": 4,
  "nbformat_minor": 0,
  "metadata": {
    "colab": {
      "provenance": []
    },
    "kernelspec": {
      "name": "python3",
      "display_name": "Python 3"
    },
    "language_info": {
      "name": "python"
    }
  },
  "cells": [
    {
      "cell_type": "markdown",
      "source": [
        "For gamified task management, we will create a simple Python script to track tasks and achievements."
      ],
      "metadata": {
        "id": "eEZSrKS96ldx"
      }
    },
    {
      "cell_type": "code",
      "execution_count": 1,
      "metadata": {
        "colab": {
          "base_uri": "https://localhost:8080/"
        },
        "id": "5cYwerIC5U8v",
        "outputId": "9f97e257-f2f5-4036-c82b-8e481ae5d319"
      },
      "outputs": [
        {
          "output_type": "stream",
          "name": "stdout",
          "text": [
            "Employee 1 Achievements: {'total_points': 30, 'completed_tasks': ['Task A', 'Task C', 'Task B']}\n"
          ]
        }
      ],
      "source": [
        "import pandas as pd\n",
        "\n",
        "# Sample data: Employee tasks and achievements\n",
        "data = {\n",
        "    'employee_id': [1, 2, 1, 3, 2, 1, 3],\n",
        "    'task': ['Task A', 'Task B', 'Task C', 'Task A', 'Task C', 'Task B', 'Task A'],\n",
        "    'status': ['Completed', 'In Progress', 'Completed', 'Completed', 'In Progress', 'Completed', 'Completed'],\n",
        "    'points': [10, 5, 10, 10, 5, 10, 10]\n",
        "}\n",
        "\n",
        "df = pd.DataFrame(data)\n",
        "\n",
        "# Function to calculate total points and achievements\n",
        "def calculate_achievements(employee_id):\n",
        "    employee_tasks = df[df['employee_id'] == employee_id]\n",
        "    total_points = employee_tasks['points'].sum()\n",
        "    completed_tasks = employee_tasks[employee_tasks['status'] == 'Completed']['task'].tolist()\n",
        "    achievements = {\n",
        "        'total_points': total_points,\n",
        "        'completed_tasks': completed_tasks\n",
        "    }\n",
        "    return achievements\n",
        "\n",
        "# Example usage\n",
        "employee_id = 1\n",
        "achievements = calculate_achievements(employee_id)\n",
        "print(f'Employee {employee_id} Achievements: {achievements}')\n"
      ]
    }
  ]
}